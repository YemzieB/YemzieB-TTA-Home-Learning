{
 "cells": [
  {
   "cell_type": "code",
   "execution_count": 12,
   "metadata": {},
   "outputs": [],
   "source": [
    "import random"
   ]
  },
  {
   "cell_type": "code",
   "execution_count": 14,
   "metadata": {},
   "outputs": [
    {
     "name": "stdout",
     "output_type": "stream",
     "text": [
      "The random number is 5\n"
     ]
    }
   ],
   "source": [
    "# Task 1a - store numbers in a variable\n",
    "random_number = random.randint(1,10)\n",
    "\n",
    "print(\"The random number is\", random_number)"
   ]
  },
  {
   "cell_type": "code",
   "execution_count": 7,
   "metadata": {},
   "outputs": [
    {
     "name": "stdout",
     "output_type": "stream",
     "text": [
      "Nice to meet you Yemi B!\n",
      " So, you are already 41 years old,Yemi B!\n"
     ]
    }
   ],
   "source": [
    "# Task 1b - Ask a user for their name and store in a variable\n",
    "\n",
    "name = input(\"What is your name? \")\n",
    "print( \"Nice to meet you \"  +  name + \"!\")\n",
    "\n",
    "age = int(input (\"How old are you?\"))\n",
    "print (\" So, you are already \" + str(age) + \" years old,\" + name + \"!\")"
   ]
  },
  {
   "cell_type": "code",
   "execution_count": 1,
   "metadata": {},
   "outputs": [
    {
     "name": "stdout",
     "output_type": "stream",
     "text": [
      "You need to guess higher. Try again\n",
      "You need to guess higher. Try again\n",
      "You need to guess lower. Try again\n",
      "You need to guess lower. Try again\n",
      "You guessed the number correctly!\n"
     ]
    }
   ],
   "source": [
    "# Task 1c and 1d - user to guess number between 1 and 10\n",
    "\n",
    "import random\n",
    "random_number = random.randint(1,20)\n",
    "guess = int (input(\"Guess a random number between 1 and 20:\"))\n",
    "\n",
    "#  Tells user whether they have guessed wrong\n",
    "\n",
    "while guess != random_number:\n",
    "    if guess < random_number:\n",
    "        print (\"You need to guess higher. Try again\")\n",
    "        guess = int (input(\"Guess a random number between 1 and 20:\"))\n",
    "    else:\n",
    "         print (\"You need to guess lower. Try again\")\n",
    "         guess = int (input(\"Guess a random number between 1 and 20:\"))\n",
    "\n",
    "print ( \"You guessed the number correctly!\")"
   ]
  },
  {
   "cell_type": "code",
   "execution_count": 1,
   "metadata": {},
   "outputs": [
    {
     "name": "stdout",
     "output_type": "stream",
     "text": [
      "Where are average things manufactured?        \n",
      "The satisfactory.!\n"
     ]
    }
   ],
   "source": [
    "# Task 2 - Tells a joke based on a selected favourite number by user\n",
    "import random\n",
    "random_number = random.randint(1,100)\n",
    "favourite_number = int (input(\" Enter a favourite number between 1 and 100:\"))\n",
    "\n",
    "#  split 100 into 3 jokes segment 1-30, 31-63, 64-100\n",
    "\n",
    "if  favourite_number < 30:\n",
    "    \n",
    "    print ( \"Did you hear about the actor who fell through the floorboards?\\\n",
    "        \\nHe was just going through a stage\")\n",
    "\n",
    "elif    favourite_number <= 63:\n",
    "        print ( \"Where are average things manufactured?\\\n",
    "        \\nThe satisfactory.!\" )\n",
    "else:   \n",
    "        print (\"Did you hear about the claustrophobic astronaut?\\\n",
    "        \\nHe just needed a little space.\" )\n",
    "        favourite_number = int (input(\"Guess a random number between 1 and 100:\"))"
   ]
  }
 ],
 "metadata": {
  "interpreter": {
   "hash": "ef1c349f26cd43cbedacbbafb61d249de2c958a410569fe482248c2675b9bbac"
  },
  "kernelspec": {
   "display_name": "Python 3.10.2 64-bit",
   "language": "python",
   "name": "python3"
  },
  "language_info": {
   "codemirror_mode": {
    "name": "ipython",
    "version": 3
   },
   "file_extension": ".py",
   "mimetype": "text/x-python",
   "name": "python",
   "nbconvert_exporter": "python",
   "pygments_lexer": "ipython3",
   "version": "3.10.2"
  },
  "orig_nbformat": 4
 },
 "nbformat": 4,
 "nbformat_minor": 2
}
