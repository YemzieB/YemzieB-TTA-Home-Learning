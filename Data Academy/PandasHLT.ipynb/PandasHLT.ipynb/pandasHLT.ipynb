{
 "cells": [
  {
   "cell_type": "code",
   "execution_count": 22,
   "metadata": {},
   "outputs": [
    {
     "name": "stdout",
     "output_type": "stream",
     "text": [
      "holidaydestinationspython\n",
      "(14, 5)\n",
      "  Holiday Destination  Feedback score  Avg_Star_Rating  Hotels_Nearby  \\\n",
      "2             Nigeria               6                4            112   \n",
      "3                 UAE               7                5            240   \n",
      "4              Greece               8                6             85   \n",
      "5            Tanzania               7                6             54   \n",
      "6               Kenya               9                6             69   \n",
      "7        South Africa               7                6            178   \n",
      "\n",
      "  Most Visted  \n",
      "2       Lagos  \n",
      "3       Dubai  \n",
      "4     Mykonos  \n",
      "5    Zanzibar  \n",
      "6     Nairobi  \n",
      "7   Cape Town  \n",
      "<bound method NDFrame._add_numeric_operations.<locals>.mean of 0     208\n",
      "1      45\n",
      "2     112\n",
      "3     240\n",
      "4      85\n",
      "5      54\n",
      "6      69\n",
      "7     178\n",
      "8     259\n",
      "9      57\n",
      "10     79\n",
      "11    131\n",
      "12    105\n",
      "13     98\n",
      "Name: Hotels_Nearby, dtype: int64>\n"
     ]
    }
   ],
   "source": [
    "# Task 1\n",
    "\n",
    "# Create a CSV file of 15 holiday destinations for a website\n",
    "\n",
    "# 1.Add in a column of destinations\n",
    "\n",
    "# 2.Add in a column that shows feedback score out of 10 for that\n",
    "# destination\n",
    "\n",
    "# 3.Add in a column for average hotel star rating for those\n",
    "# destinations\n",
    "\n",
    "# 4.Add in a column for number of all inclusive hotels within each\n",
    "# destination\n",
    "\n",
    "# 5.Add in the most visited city in each destination\n",
    "\n",
    "\n",
    "import pandas as pd\n",
    "\n",
    "import matplotlib.pyplot as plt\n",
    "\n",
    "\n",
    "# task 2\n",
    "# Retrieving csv file\n",
    "\n",
    "holidaydestinationspython = pd.read_csv(\"C:\\\\Users\\\\Yemzie\\\\Desktop\\\\Holiday Destinations Python.csv\")\n",
    "\n",
    "print (\"holidaydestinationspython\")\n",
    "\n",
    "\n",
    "# 1. How many rows and columns are there in your file?\n",
    "\n",
    "print (holidaydestinationspython.shape)\n",
    "\n",
    "# 2. Print row 3 8 ( using iloc loc)\n",
    "\n",
    "print (holidaydestinationspython.iloc[2:8])\n",
    "\n",
    "# 3. Find the mean number of all inclusive hotels across all destinations.\n",
    "\n",
    "print (holidaydestinationspython[\"Hotels_Nearby\"].mean)\n",
    "\n",
    "\n",
    "\n"
   ]
  },
  {
   "cell_type": "code",
   "execution_count": 29,
   "metadata": {},
   "outputs": [
    {
     "name": "stdout",
     "output_type": "stream",
     "text": [
      "5\n",
      "10\n",
      "Thailand\n"
     ]
    }
   ],
   "source": [
    "# 4. Find the lowest scoring destination.\n",
    "\n",
    "print (holidaydestinationspython[\"Feedback score\"].min())\n",
    "\n",
    "destination = holidaydestinationspython[\"Feedback score\"].idxmin()\n",
    "\n",
    "print (destination)\n",
    "\n",
    "print (holidaydestinationspython.iloc[destination, 0])\n",
    "\n",
    "\n",
    "\n"
   ]
  },
  {
   "cell_type": "code",
   "execution_count": 31,
   "metadata": {},
   "outputs": [
    {
     "name": "stdout",
     "output_type": "stream",
     "text": [
      "9\n",
      "6\n",
      "Kenya\n"
     ]
    }
   ],
   "source": [
    "# 5. Find the highest scoring destination.\n",
    "\n",
    "print (holidaydestinationspython[\"Feedback score\"].max())\n",
    "\n",
    "destination_max = holidaydestinationspython[\"Feedback score\"].idxmax()\n",
    "\n",
    "print (destination_max)\n",
    "\n",
    "print (holidaydestinationspython.iloc[destination_max, 0])\n"
   ]
  },
  {
   "cell_type": "code",
   "execution_count": 33,
   "metadata": {},
   "outputs": [
    {
     "name": "stdout",
     "output_type": "stream",
     "text": [
      "  Holiday Destination  Feedback score  Avg_Star_Rating  Hotels_Nearby  \\\n",
      "0              Canada               7                6            208   \n",
      "3                 UAE               7                5            240   \n",
      "7        South Africa               7                6            178   \n",
      "8                 USA               8                5            259   \n",
      "\n",
      "  Most Visted  \n",
      "0     Toronto  \n",
      "3       Dubai  \n",
      "7   Cape Town  \n",
      "8    New York  \n"
     ]
    }
   ],
   "source": [
    "# 6. Find all the destinations where there are more than 150 all inclusive hotels.\n",
    "\n",
    "More_than_150_hotels = holidaydestinationspython [\"Hotels_Nearby\"] >= 150\n",
    "\n",
    "destinations_with_more_than_150_hotels = holidaydestinationspython[More_than_150_hotels]\n",
    "\n",
    "print (destinations_with_more_than_150_hotels)"
   ]
  },
  {
   "cell_type": "code",
   "execution_count": 35,
   "metadata": {},
   "outputs": [
    {
     "name": "stdout",
     "output_type": "stream",
     "text": [
      "   Holiday Destination  Feedback score  Avg_Star_Rating  Hotels_Nearby  \\\n",
      "1               Zambia               8                5             45   \n",
      "4               Greece               8                6             85   \n",
      "6                Kenya               9                6             69   \n",
      "8                  USA               8                5            259   \n",
      "9                 Bali               9                7             57   \n",
      "13               Japan               8                6             98   \n",
      "\n",
      "       Most Visted  \n",
      "1   Victoria Falls  \n",
      "4          Mykonos  \n",
      "6          Nairobi  \n",
      "8         New York  \n",
      "9         Seminyak  \n",
      "13           Tokyo  \n"
     ]
    }
   ],
   "source": [
    "# 7. Filter the data by score above 7.\n",
    "\n",
    "Above_7_hotels = holidaydestinationspython [\"Feedback score\"] > 7\n",
    "\n",
    "Hotels_rated_above_7 = holidaydestinationspython[Above_7_hotels]\n",
    "\n",
    "print (Hotels_rated_above_7)"
   ]
  },
  {
   "cell_type": "code",
   "execution_count": 49,
   "metadata": {},
   "outputs": [
    {
     "name": "stdout",
     "output_type": "stream",
     "text": [
      "   Holiday Destination  Feedback score  Avg_Star_Rating  Hotels_Nearby  \\\n",
      "2              Nigeria               6                4            112   \n",
      "10            Thailand               5                4             79   \n",
      "11               China               6                5            131   \n",
      "\n",
      "   Most Visted  \n",
      "2        Lagos  \n",
      "10      Phuket  \n",
      "11     Shangai  \n"
     ]
    }
   ],
   "source": [
    "# 8. Filter the data score below 7 ( I need to know if these destinations should be removed or there is a problem)\n",
    "\n",
    "below_7_hotels = holidaydestinationspython [\"Feedback score\"] < 7\n",
    "\n",
    "Hotels_rated_below_7 = holidaydestinationspython[below_7_hotels]\n",
    "\n",
    "print (Hotels_rated_below_7)"
   ]
  },
  {
   "cell_type": "code",
   "execution_count": 51,
   "metadata": {},
   "outputs": [
    {
     "data": {
      "text/plain": [
       "-0.14650017949799823"
      ]
     },
     "execution_count": 51,
     "metadata": {},
     "output_type": "execute_result"
    }
   ],
   "source": [
    "# Extension task 1 - Is there a correlation between number of all inclusive hotels and score?\n",
    "\n",
    "holidaydestinationspython.corr()\n",
    "\n",
    "holidaydestinationspython [\"Feedback score\"].corr(holidaydestinationspython[\"Hotels_Nearby\"])"
   ]
  },
  {
   "cell_type": "code",
   "execution_count": 59,
   "metadata": {},
   "outputs": [
    {
     "data": {
      "image/png": "[encoded data removed]",
      "text/plain": [
       "<Figure size 432x288 with 1 Axes>"
      ]
     },
     "metadata": {
      "needs_background": "light"
     },
     "output_type": "display_data"
    }
   ],
   "source": [
    "# Extension task 2 - Create a data visualisation diagram to show destination and highest scores?\n",
    "\n",
    "holidaydestinationspython.plot.bar(y=\"Feedback score\", x = \"Holiday Destination\")\n",
    "plt.title (\"Destinations and Highest Scores\")\n",
    "plt.xlabel (\"Feedback score\")\n",
    "plt.ylabel (\"Holiday Destination\")\n",
    "plt.tight_layout()\n",
    "plt.show()"
   ]
  }
 ],
 "metadata": {
  "interpreter": {
   "hash": "ef1c349f26cd43cbedacbbafb61d249de2c958a410569fe482248c2675b9bbac"
  },
  "kernelspec": {
   "display_name": "Python 3.10.2 64-bit",
   "language": "python",
   "name": "python3"
  },
  "language_info": {
   "codemirror_mode": {
    "name": "ipython",
    "version": 3
   },
   "file_extension": ".py",
   "mimetype": "text/x-python",
   "name": "python",
   "nbconvert_exporter": "python",
   "pygments_lexer": "ipython3",
   "version": "3.10.2"
  },
  "orig_nbformat": 4
 },
 "nbformat": 4,
 "nbformat_minor": 2
}
