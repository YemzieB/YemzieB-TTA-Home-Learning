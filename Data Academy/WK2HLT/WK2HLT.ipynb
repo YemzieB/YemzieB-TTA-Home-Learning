{
 "cells": [
  {
   "cell_type": "code",
   "execution_count": 86,
   "metadata": {},
   "outputs": [],
   "source": [
    "# Task 4 Motorbike while loop\n",
    "\n",
    "def bike_value(value):\n",
    "    bike_value = 2000\n",
    "    \n",
    "    if value < 1000:\n",
    "        while bike_value > 2000:\n",
    "            print(\"The bike is worth:\", \"£\", value)\n",
    "            bike_value *=0.90\n",
    " \n",
    "bike_value = 2000 - 100        \n",
    "            "
   ]
  },
  {
   "cell_type": "code",
   "execution_count": 87,
   "metadata": {},
   "outputs": [],
   "source": [
    "message = bike_value"
   ]
  },
  {
   "cell_type": "code",
   "execution_count": 92,
   "metadata": {},
   "outputs": [
    {
     "name": "stdout",
     "output_type": "stream",
     "text": [
      "1900\n"
     ]
    }
   ],
   "source": [
    "print (bike_value)"
   ]
  },
  {
   "cell_type": "code",
   "execution_count": 102,
   "metadata": {},
   "outputs": [
    {
     "name": "stdout",
     "output_type": "stream",
     "text": [
      "An appropriate operator was not selected!\n"
     ]
    }
   ],
   "source": [
    "# Write a program which will ask for two numbers\n",
    "# from a user. Then offer an option menu to the user\n",
    "# giving them a choice of maths operators. Once the\n",
    "# user has selected which operator they wish to use,\n",
    "# perform the calculation by using a procedure and\n",
    "# passing parameters.\n",
    "\n",
    "def operator():\n",
    "\n",
    "    num_1 = int(input(\"Please enter a number\"))\n",
    "    num_2 = int(input(\"Please enter a second number\"))\n",
    "    operator = input(\"Please enter an operator choice (+,-,/,*,**,%,//):\")\n",
    "\n",
    "if operator == \"+\":\n",
    "    print(num_1+num_2)\n",
    "elif operator == \"-\":\n",
    "    print(num_1-num_2)\n",
    "elif operator == \"/\":\n",
    "    print(num_1/num_2)\n",
    "elif operator == \"*\":    \n",
    "    print(num_1*num_2)\n",
    "elif operator == \"**\":    \n",
    "    print(num_1**num_2)\n",
    "elif operator == \"%\":    \n",
    "    print(num_1%num_2)\n",
    "elif operator == \"//\":    \n",
    "    print(num_1//num_2)\n",
    "else:\n",
    "    print(\"An appropriate operator was not selected!\")"
   ]
  },
  {
   "cell_type": "code",
   "execution_count": 106,
   "metadata": {},
   "outputs": [],
   "source": [
    "message = operator"
   ]
  },
  {
   "cell_type": "code",
   "execution_count": 107,
   "metadata": {},
   "outputs": [],
   "source": [
    "operator()"
   ]
  }
 ],
 "metadata": {
  "interpreter": {
   "hash": "ef1c349f26cd43cbedacbbafb61d249de2c958a410569fe482248c2675b9bbac"
  },
  "kernelspec": {
   "display_name": "Python 3.10.2 64-bit",
   "language": "python",
   "name": "python3"
  },
  "language_info": {
   "codemirror_mode": {
    "name": "ipython",
    "version": 3
   },
   "file_extension": ".py",
   "mimetype": "text/x-python",
   "name": "python",
   "nbconvert_exporter": "python",
   "pygments_lexer": "ipython3",
   "version": "3.10.2"
  },
  "orig_nbformat": 4
 },
 "nbformat": 4,
 "nbformat_minor": 2
}
