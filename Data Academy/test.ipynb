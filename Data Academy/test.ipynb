{
 "cells": [
  {
   "cell_type": "code",
   "execution_count": 9,
   "metadata": {},
   "outputs": [
    {
     "name": "stdout",
     "output_type": "stream",
     "text": [
      "Im reading a great new book!\n"
     ]
    }
   ],
   "source": [
    " # string concatenation\n",
    "string_one = 'Im reading'\n",
    "string_two = ' a great new book!'\n",
    "string_three = string_one + string_two\n",
    "\n",
    "print (string_three)"
   ]
  },
  {
   "cell_type": "code",
   "execution_count": 8,
   "metadata": {},
   "outputs": [
    {
     "name": "stdout",
     "output_type": "stream",
     "text": [
      "YemiYemiYemiYemiYemi\n"
     ]
    }
   ],
   "source": [
    "# string replication\n",
    "'Yemi' * 5\n",
    "print ('Yemi' * 5)"
   ]
  }
 ],
 "metadata": {
  "interpreter": {
   "hash": "ef1c349f26cd43cbedacbbafb61d249de2c958a410569fe482248c2675b9bbac"
  },
  "kernelspec": {
   "display_name": "Python 3.10.2 64-bit",
   "language": "python",
   "name": "python3"
  },
  "language_info": {
   "codemirror_mode": {
    "name": "ipython",
    "version": 3
   },
   "file_extension": ".py",
   "mimetype": "text/x-python",
   "name": "python",
   "nbconvert_exporter": "python",
   "pygments_lexer": "ipython3",
   "version": "3.10.2"
  },
  "orig_nbformat": 4
 },
 "nbformat": 4,
 "nbformat_minor": 2
}
