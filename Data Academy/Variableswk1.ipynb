{
 "cells": [
  {
   "cell_type": "code",
   "execution_count": 1,
   "metadata": {},
   "outputs": [],
   "source": [
    "# Learning Variables\n",
    "\n",
    "user_name = \"Yemi\"\n",
    "price_per_mile = 1.14\n",
    "\n",
    "userName = \"Donna\"\n",
    "pricePerLitre = 1\n",
    "\n",
    "UserName  = \" Susan\"\n",
    "PricePerLitre = 1.12"
   ]
  },
  {
   "cell_type": "code",
   "execution_count": 2,
   "metadata": {},
   "outputs": [
    {
     "name": "stdout",
     "output_type": "stream",
     "text": [
      "user_name = Yemi\n"
     ]
    }
   ],
   "source": [
    "print('user_name =', user_name)"
   ]
  },
  {
   "cell_type": "code",
   "execution_count": 10,
   "metadata": {},
   "outputs": [
    {
     "name": "stdout",
     "output_type": "stream",
     "text": [
      "1\n",
      "1.12\n"
     ]
    }
   ],
   "source": [
    "print(pricePerLitre)\n",
    "print(PricePerLitre)"
   ]
  },
  {
   "cell_type": "code",
   "execution_count": 8,
   "metadata": {},
   "outputs": [
    {
     "name": "stdout",
     "output_type": "stream",
     "text": [
      "1.14\n"
     ]
    }
   ],
   "source": [
    "print(price_per_mile)"
   ]
  },
  {
   "cell_type": "code",
   "execution_count": 3,
   "metadata": {},
   "outputs": [
    {
     "name": "stdout",
     "output_type": "stream",
     "text": [
      "userName = Donna\n"
     ]
    }
   ],
   "source": [
    "print('userName =', userName)"
   ]
  },
  {
   "cell_type": "code",
   "execution_count": 4,
   "metadata": {},
   "outputs": [
    {
     "name": "stdout",
     "output_type": "stream",
     "text": [
      "UserName =  Susan\n"
     ]
    }
   ],
   "source": [
    "print('UserName =', UserName)"
   ]
  },
  {
   "cell_type": "code",
   "execution_count": 9,
   "metadata": {},
   "outputs": [
    {
     "name": "stdout",
     "output_type": "stream",
     "text": [
      "7\n",
      "15\n",
      "49\n",
      "-10\n",
      "3.0\n"
     ]
    }
   ],
   "source": [
    "# Maths Expressions\n",
    "print(2+5)\n",
    "\n",
    "print (3+3+3+3+3)\n",
    "\n",
    "print (7*7)\n",
    "\n",
    "print (10-4*5)\n",
    "\n",
    "print (21/7)"
   ]
  },
  {
   "cell_type": "code",
   "execution_count": 18,
   "metadata": {},
   "outputs": [
    {
     "name": "stdout",
     "output_type": "stream",
     "text": [
      "RedDevils\n",
      "Tottenham\n"
     ]
    }
   ],
   "source": [
    "manutd = 'RedDevils'\n",
    "spurs = 'Tottenham'\n",
    "print (manutd)\n",
    "print (spurs)"
   ]
  },
  {
   "cell_type": "code",
   "execution_count": 8,
   "metadata": {},
   "outputs": [
    {
     "name": "stdout",
     "output_type": "stream",
     "text": [
      "Nice to meet you Dayna!\n",
      " So, you are already 8 years old!\n"
     ]
    }
   ],
   "source": [
    "# user input \n",
    "\n",
    "name = input(\"What is your name? \")\n",
    "print( \"Nice to meet you \"  +  name + \"!\")\n",
    "\n",
    "age = int(input (\"How old are you?\"))\n",
    "print (\" So, you are already \" + str(age) + \" years old\"  + \"!\")"
   ]
  },
  {
   "cell_type": "code",
   "execution_count": 1,
   "metadata": {},
   "outputs": [
    {
     "name": "stdout",
     "output_type": "stream",
     "text": [
      "Your favourite meal is  Spare Ribs  Angus Beef burger  Apple crumble  with a glass of  Bubble mango juice.\n"
     ]
    }
   ],
   "source": [
    "# Task 3 User enters their favourite meal and concatenate all input\n",
    "\n",
    "# used + operator and colons with space inside as well as commas to separate strings instaed of join\n",
    "\n",
    "# Finding tricky to include comma for output strings\n",
    "\n",
    "starter = input (\" What is your favourite starter? \") \n",
    "main = input (\" What is your favourite main course? \") \n",
    "dessert = input (\" What is your favourite dessert? \") \n",
    "drink = input (\" What is your favourite drink? \")   \n",
    "\n",
    "print(\"Your favourite meal is\" + ' ', starter  + ' ' ,   main  + ' ',   dessert  + ' ',  \"with a glass of\"  + ' ',  drink + \".\" )\n",
    "                 \n"
   ]
  }
 ],
 "metadata": {
  "interpreter": {
   "hash": "ef1c349f26cd43cbedacbbafb61d249de2c958a410569fe482248c2675b9bbac"
  },
  "kernelspec": {
   "display_name": "Python 3.10.2 64-bit",
   "language": "python",
   "name": "python3"
  },
  "language_info": {
   "codemirror_mode": {
    "name": "ipython",
    "version": 3
   },
   "file_extension": ".py",
   "mimetype": "text/x-python",
   "name": "python",
   "nbconvert_exporter": "python",
   "pygments_lexer": "ipython3",
   "version": "3.10.2"
  },
  "orig_nbformat": 4
 },
 "nbformat": 4,
 "nbformat_minor": 2
}
