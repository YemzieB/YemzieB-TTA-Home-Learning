{
 "cells": [
  {
   "cell_type": "code",
   "execution_count": 12,
   "metadata": {},
   "outputs": [],
   "source": [
    "# Task 1 wk3 \n",
    "\n",
    "# Write a program that allows you to enter 4 numbers\n",
    "# and stores them in a file called “Numbers” 3,45, 83, 21.\n",
    "\n",
    "\n",
    "numbers = [3,45,83,21]\n",
    "\n",
    "my_file = open(\"numbers.txt\", \"w\")\n",
    "    \n",
    "for i in range(10):\n",
    "    my_file.write(str(i))\n",
    "    my_file.writelines('num+' '\\n')\n",
    "    \n",
    "my_file.close()\n",
    "    "
   ]
  },
  {
   "cell_type": "code",
   "execution_count": 13,
   "metadata": {},
   "outputs": [
    {
     "name": "stdout",
     "output_type": "stream",
     "text": [
      "[3, 45, 83, 21]\n"
     ]
    }
   ],
   "source": [
    "print(numbers)"
   ]
  },
  {
   "cell_type": "code",
   "execution_count": 14,
   "metadata": {},
   "outputs": [
    {
     "name": "stdout",
     "output_type": "stream",
     "text": [
      "You need at least C grade to to pass \n"
     ]
    }
   ],
   "source": [
    "# Task 2 plus Task Extension\n",
    "\n",
    "# Write a program to ask\n",
    "# a student for their\n",
    "# percentage mark and\n",
    "# convert this to a grade.\n",
    "\n",
    "for i in range (0,100):\n",
    "    mark_grade=float(input(\"Please enter your score\"))\n",
    "    if mark_grade >=90:\n",
    "        print(\"You got A*\")\n",
    "    elif mark_grade >=80:\n",
    "        print (\"You got A+\")\n",
    "    elif mark_grade >=75:\n",
    "        print (\"You got A\")\n",
    "    elif mark_grade >=60:\n",
    "        print (\"You got B\")\n",
    "    elif mark_grade >=50:   \n",
    "        print (\"You got C\")\n",
    "    else:\n",
    "        print (\"You need at least C grade to to pass \")\n",
    "        \n",
    "        \n",
    "        \n",
    "        "
   ]
  }
 ],
 "metadata": {
  "interpreter": {
   "hash": "ef1c349f26cd43cbedacbbafb61d249de2c958a410569fe482248c2675b9bbac"
  },
  "kernelspec": {
   "display_name": "Python 3.10.2 64-bit",
   "language": "python",
   "name": "python3"
  },
  "language_info": {
   "codemirror_mode": {
    "name": "ipython",
    "version": 3
   },
   "file_extension": ".py",
   "mimetype": "text/x-python",
   "name": "python",
   "nbconvert_exporter": "python",
   "pygments_lexer": "ipython3",
   "version": "3.10.2"
  },
  "orig_nbformat": 4
 },
 "nbformat": 4,
 "nbformat_minor": 2
}
