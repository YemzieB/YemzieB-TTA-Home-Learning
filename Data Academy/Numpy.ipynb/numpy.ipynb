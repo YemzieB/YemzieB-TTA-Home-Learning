{
 "cells": [
  {
   "cell_type": "code",
   "execution_count": 7,
   "metadata": {},
   "outputs": [
    {
     "name": "stdout",
     "output_type": "stream",
     "text": [
      "Requirement already satisfied: numpy in c:\\users\\yemzie\\appdata\\local\\programs\\python\\python310\\lib\\site-packages (1.22.3)\n",
      "Note: you may need to restart the kernel to use updated packages.\n"
     ]
    },
    {
     "name": "stderr",
     "output_type": "stream",
     "text": [
      "WARNING: You are using pip version 21.2.4; however, version 22.0.4 is available.\n",
      "You should consider upgrading via the 'C:\\Users\\Yemzie\\AppData\\Local\\Programs\\Python\\Python310\\python.exe -m pip install --upgrade pip' command.\n"
     ]
    }
   ],
   "source": [
    "pip install numpy"
   ]
  },
  {
   "cell_type": "code",
   "execution_count": 9,
   "metadata": {},
   "outputs": [
    {
     "name": "stdout",
     "output_type": "stream",
     "text": [
      "Array from 0 to 10:\n",
      "[0 1 2 3 4 5 6 7 8 9]\n"
     ]
    }
   ],
   "source": [
    "# Numpy Task 1\n",
    "# Create a 1D array of numbers from 0 to 9\n",
    "\n",
    "import numpy as np\n",
    "\n",
    "x = np.arange(10)\n",
    "print(\"Array from 0 to 10:\")\n",
    "print(x)\n"
   ]
  },
  {
   "cell_type": "code",
   "execution_count": 18,
   "metadata": {},
   "outputs": [
    {
     "name": "stdout",
     "output_type": "stream",
     "text": [
      "[[ True  True  True]\n",
      " [ True  True  True]\n",
      " [ True  True  True]]\n"
     ]
    }
   ],
   "source": [
    "# Numpy task 2\n",
    "# Create a 3×3 NumPy array of all Boolean value Trues\n",
    "\n",
    "threebythree_array_boolean = np.full((3,3), True, dtype=bool)\n",
    "print(threebythree_array_boolean)\n",
    "                                     "
   ]
  },
  {
   "cell_type": "code",
   "execution_count": 64,
   "metadata": {},
   "outputs": [
    {
     "name": "stdout",
     "output_type": "stream",
     "text": [
      "13579"
     ]
    }
   ],
   "source": [
    "# Numpy Task 3\n",
    "# Extract all odd numbers from array of 1 - 10\n",
    "\n",
    "odd_numbers = np.array([1,2,3,4,5,6,7,8,9,10])\n",
    "for num in odd_numbers:\n",
    "    if num % 2 != 0:\n",
    "        print(num, end = \"\" ,)\n",
    "\n",
    " \n"
   ]
  },
  {
   "cell_type": "code",
   "execution_count": 65,
   "metadata": {},
   "outputs": [
    {
     "data": {
      "text/plain": [
       "array([1, 3, 5, 7, 9])"
      ]
     },
     "execution_count": 65,
     "metadata": {},
     "output_type": "execute_result"
    }
   ],
   "source": [
    "# OR\n",
    "\n",
    "odd_numbers = np.array([1,2,3,4,5,6,7,8,9,10])\n",
    "odd_numbers[odd_numbers % 2 == 1]"
   ]
  },
  {
   "cell_type": "code",
   "execution_count": 69,
   "metadata": {},
   "outputs": [
    {
     "name": "stdout",
     "output_type": "stream",
     "text": [
      "[-1  2 -1  4 -1  6 -1  8 -1 10]\n"
     ]
    }
   ],
   "source": [
    "# Task 4\n",
    "# Replace all odd numbers in an array of 1 10 with the value -1\n",
    "\n",
    "odd_numbers = np.array([1,2,3,4,5,6,7,8,9,10])\n",
    "odd_numbers[odd_numbers % 2 == 1] = -1\n",
    "print(odd_numbers)"
   ]
  },
  {
   "cell_type": "code",
   "execution_count": 77,
   "metadata": {},
   "outputs": [
    {
     "name": "stdout",
     "output_type": "stream",
     "text": [
      "[[10 20]\n",
      " [30 40]]\n"
     ]
    }
   ],
   "source": [
    "# Task 5\n",
    "# Convert a 1D array to a 2D array with 2 rows\n",
    "\n",
    "# 1D array\n",
    "\n",
    "array1 = np.array([10, 20, 30,40])\n",
    "\n",
    "# 2D array\n",
    "newArray = array1.reshape(2, 2)\n",
    "\n",
    "print(newArray)"
   ]
  },
  {
   "cell_type": "code",
   "execution_count": 83,
   "metadata": {},
   "outputs": [
    {
     "name": "stdout",
     "output_type": "stream",
     "text": [
      "13648\n"
     ]
    }
   ],
   "source": [
    "# Task 6\n",
    "# Create two arrays a and b, stack these two arrays vertically use the np.dot and\n",
    "# np.sum to calculate totals\n",
    "\n",
    "a = np.arange (1,17).reshape(4,4)\n",
    "b = np.arange (17, 33).reshape (4,4)\n",
    "\n",
    "c = np.dot(a,b)\n",
    "sum = np.sum(c)\n",
    "\n",
    "print (sum)"
   ]
  }
 ],
 "metadata": {
  "interpreter": {
   "hash": "ef1c349f26cd43cbedacbbafb61d249de2c958a410569fe482248c2675b9bbac"
  },
  "kernelspec": {
   "display_name": "Python 3.10.2 64-bit",
   "language": "python",
   "name": "python3"
  },
  "language_info": {
   "codemirror_mode": {
    "name": "ipython",
    "version": 3
   },
   "file_extension": ".py",
   "mimetype": "text/x-python",
   "name": "python",
   "nbconvert_exporter": "python",
   "pygments_lexer": "ipython3",
   "version": "3.10.2"
  },
  "orig_nbformat": 4
 },
 "nbformat": 4,
 "nbformat_minor": 2
}
